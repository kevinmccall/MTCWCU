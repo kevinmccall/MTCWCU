{
 "cells": [
  {
   "cell_type": "code",
   "execution_count": 1,
   "id": "54bccb98-e83f-446c-a677-ac35165d7e63",
   "metadata": {
    "tags": []
   },
   "outputs": [
    {
     "name": "stdout",
     "output_type": "stream",
     "text": [
      "Collecting pandas\n",
      "  Downloading pandas-2.0.0-cp310-cp310-win_amd64.whl (11.2 MB)\n",
      "     ---------------------------------------- 11.2/11.2 MB 4.0 MB/s eta 0:00:00\n",
      "Collecting numpy>=1.21.0\n",
      "  Using cached numpy-1.24.2-cp310-cp310-win_amd64.whl (14.8 MB)\n",
      "Requirement already satisfied: python-dateutil>=2.8.2 in c:\\programs\\python\\lib\\site-packages (from pandas) (2.8.2)\n",
      "Collecting pytz>=2020.1\n",
      "  Downloading pytz-2023.3-py2.py3-none-any.whl (502 kB)\n",
      "     -------------------------------------- 502.3/502.3 kB 3.9 MB/s eta 0:00:00\n",
      "Collecting tzdata>=2022.1\n",
      "  Downloading tzdata-2023.3-py2.py3-none-any.whl (341 kB)\n",
      "     -------------------------------------- 341.8/341.8 kB 4.3 MB/s eta 0:00:00\n",
      "Requirement already satisfied: six>=1.5 in c:\\programs\\python\\lib\\site-packages (from python-dateutil>=2.8.2->pandas) (1.16.0)\n",
      "Installing collected packages: pytz, tzdata, numpy, pandas\n",
      "Successfully installed numpy-1.24.2 pandas-2.0.0 pytz-2023.3 tzdata-2023.3\n",
      "Note: you may need to restart the kernel to use updated packages.\n"
     ]
    }
   ],
   "source": [
    "%pip install pandas"
   ]
  },
  {
   "cell_type": "code",
   "execution_count": 2,
   "id": "60f5f3aa-4c68-461f-bd39-76a3fb425e69",
   "metadata": {
    "tags": []
   },
   "outputs": [],
   "source": [
    "import pandas as pd\n",
    "\n",
    "pd.read"
   ]
  }
 ],
 "metadata": {
  "kernelspec": {
   "display_name": "Python 3 (ipykernel)",
   "language": "python",
   "name": "python3"
  },
  "language_info": {
   "codemirror_mode": {
    "name": "ipython",
    "version": 3
   },
   "file_extension": ".py",
   "mimetype": "text/x-python",
   "name": "python",
   "nbconvert_exporter": "python",
   "pygments_lexer": "ipython3",
   "version": "3.10.6"
  }
 },
 "nbformat": 4,
 "nbformat_minor": 5
}
